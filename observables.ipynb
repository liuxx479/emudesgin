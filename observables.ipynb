{
 "cells": [
  {
   "cell_type": "code",
   "execution_count": 1,
   "metadata": {
    "collapsed": false
   },
   "outputs": [],
   "source": [
    "from scipy import *\n",
    "import numpy as np\n",
    "from pylab import *\n",
    "from scipy.interpolate import interp1d\n",
    "import os\n",
    "from astropy.io import fits\n",
    "from scipy.special import factorial\n",
    "%matplotlib inline"
   ]
  },
  {
   "cell_type": "code",
   "execution_count": null,
   "metadata": {
    "collapsed": false
   },
   "outputs": [],
   "source": [
    "######## check TT, Pk (z=0), Clkk (z=1) from class vs camb\n",
    "\n",
    "# LCDM parameters\n",
    "A_s = 2.1e-9\n",
    "h=0.7\n",
    "OmegaB = 0.046\n",
    "OmegaM = 0.3\n",
    "n_s = 0.97\n",
    "tau = 0.054 ## only for primary CMB, not use this for simplicity\n",
    "\n",
    "# beyond LCDM, not implemented yet\n",
    "OmegaDE = 0.75\n",
    "w0=-1.0#-0.5#\n",
    "wa=0.0#0.1#\n",
    "Neff = 3.046\n",
    "mnu = 0.0\n",
    "\n",
    "### derived parameters\n",
    "#z_reio = 10.0 #11.357\n",
    "ombh2 = OmegaB*h**2\n",
    "omch2 = (OmegaM-OmegaB)*h**2\n",
    "H0=h*100\n",
    "### accuracy parameters\n",
    "lmax=5000"
   ]
  },
  {
   "cell_type": "code",
   "execution_count": null,
   "metadata": {
    "collapsed": false
   },
   "outputs": [],
   "source": [
    "##########################\n",
    "####### class ############\n",
    "##########################\n",
    "\n",
    "## https://github.com/lesgourg/class_public/blob/master/explanatory.ini\n",
    "# 1.a) list of output spectra requested:\n",
    "# - 'tCl' for temperature Cls,\n",
    "# - 'pCl' for polarization Cls,\n",
    "# - 'lCl' for CMB lensing potential Cls,\n",
    "# - 'nCl' (or 'dCl') for density number count Cls,\n",
    "# - 'sCl' for galaxy lensing potential Cls,\n",
    "# - 'mPk' for total matter power spectrum P(k) infered from gravitational potential,\n",
    "# - 'dTk' (or 'mTk') for density transfer functions for each species,\n",
    "# - 'vTk' for velocity transfer function for each species.\n",
    "\n",
    "# import classy module\n",
    "from classy import Class\n",
    "# create instance of the class \"Class\"\n",
    "LambdaCDM = Class()\n",
    "LambdaCDM.set({'omega_b':ombh2,'omega_cdm':omch2,'h':h,'A_s':A_s,'n_s':n_s})\n",
    "LambdaCDM.set({'output':'tCl,pCl,lCl,mPk,sCl',\n",
    "               #'lensing':'yes',\n",
    "               'lensing':'no',\n",
    "               'P_k_max_1/Mpc':10.0,\n",
    "               'z_pk':0,\n",
    "               'reio_parametrization':'reio_none',\n",
    "               #'z_reio':10.0, 'tau_reio':tau\n",
    "               'l_switch_limber':100,\n",
    "               'selection':'dirac',\n",
    "               'selection_mean':1.0,\n",
    "               'l_max_lss':lmax,\n",
    "               'perturb_sampling_stepsize':0.01})\n",
    "# run class\n",
    "LambdaCDM.compute()"
   ]
  },
  {
   "cell_type": "code",
   "execution_count": null,
   "metadata": {
    "collapsed": false
   },
   "outputs": [],
   "source": [
    "si8=LambdaCDM.sigma8()"
   ]
  },
  {
   "cell_type": "code",
   "execution_count": null,
   "metadata": {
    "collapsed": false
   },
   "outputs": [],
   "source": [
    "# get all C_l output\n",
    "#cls = LambdaCDM.lensed_cl(2500)\n",
    "cls = LambdaCDM.raw_cl()\n",
    "print cls.viewkeys()\n",
    "ll = cls['ell'][2:]\n",
    "clTT = cls['tt'][2:]\n",
    "#clEE = cls['ee'][2:]\n",
    "#clPP = cls['pp'][2:]"
   ]
  },
  {
   "cell_type": "code",
   "execution_count": null,
   "metadata": {
    "collapsed": true
   },
   "outputs": [],
   "source": [
    "# get P(k) at redhsift z=0\n",
    "kk = np.logspace(-4,np.log10(3),1000) # k in h/Mpc\n",
    "Pk = [] # P(k) in (Mpc/h)**3\n",
    "h = LambdaCDM.h() # get reduced Hubble for conversions to 1/Mpc\n",
    "for k in kk:\n",
    "    Pk.append(LambdaCDM.pk(k*h,0.)*h**3) # function .pk(k,z)"
   ]
  },
  {
   "cell_type": "code",
   "execution_count": null,
   "metadata": {
    "collapsed": false
   },
   "outputs": [],
   "source": [
    "# get Clkk\n",
    "cls2=LambdaCDM.density_cl(2500)\n",
    "print cls2.viewkeys()\n",
    "ell=cls2['ell'][2:]\n",
    "clphiphi=cls2['ll'][0][2:]\n",
    "#clkk=1.0/4 * ((l+2.0)!/(l-2.0)!)* clphiphi\n",
    "#clkk=1.0/4 * (factorial(ell+2.0)/factorial(ell-2.0))*clphiphi\n",
    "clkk=1.0/4 * (ell+2.0)*(ell+1.0)*(ell)*(ell-1.0)*clphiphi\n",
    "#print type(clkk)"
   ]
  },
  {
   "cell_type": "code",
   "execution_count": null,
   "metadata": {
    "collapsed": false
   },
   "outputs": [],
   "source": [
    "##########################\n",
    "####### camb #############\n",
    "##########################\n",
    "\n",
    "import camb\n",
    "from camb import model, initialpower\n",
    "print('Using CAMB %s installed at %s'%(camb.__version__,os.path.dirname(camb.__file__)))\n",
    "\n",
    "#Set up a new set of parameters for CAMB\n",
    "pars = camb.CAMBparams()\n",
    "#This function sets up CosmoMC-like settings, with one massive neutrino and helium set using BBN consistency\n",
    "pars.set_cosmology(H0=h*100, ombh2=ombh2, omch2=omch2, omk=0, \n",
    "                   tau=0, mnu=mnu, neutrino_hierarchy='normal')\n",
    "### dark energy ##########\n",
    "pars.set_dark_energy(w=w0, wa=wa, dark_energy_model='fluid') \n",
    "\n",
    "pars.InitPower.set_params(As=A_s, ns=n_s, r=0)\n",
    "pars.set_matter_power(redshifts=[0.,], kmax=10.0)\n",
    "pars.set_for_lmax(lmax, lens_potential_accuracy=0);\n",
    "pars.SourceWindows = [camb.sources.GaussianSourceWindow(redshift=1.0, source_type='lensing', sigma=0.0001),]\n",
    "\n",
    "#calculate results for these parameters\n",
    "results = camb.get_results(pars)\n",
    "powers =results.get_cmb_power_spectra(pars, CMB_unit='K')\n",
    "for name in powers: print(name)"
   ]
  },
  {
   "cell_type": "code",
   "execution_count": null,
   "metadata": {
    "collapsed": false
   },
   "outputs": [],
   "source": [
    "## primary CMB\n",
    "unlensedCL=powers['unlensed_scalar'][:,0]\n",
    "ls = np.arange(unlensedCL.shape[0])\n",
    "\n",
    "## Pk\n",
    "kcamb, zcamb, Pkcamb = results.get_matter_power_spectrum(minkh=1e-3, maxkh=10, npoints = 200)\n",
    "print zcamb,kcamb.shape, Pkcamb.shape\n",
    "\n",
    "## Clkk\n",
    "cls_Wz = results.get_source_cls_dict()\n",
    "for name in cls_Wz: print(name)\n",
    "clkk_camb = cls_Wz['W1xW1'][2:]\n",
    "ls2=  np.arange(2, len(clkk_camb)+2)\n",
    "#print type(clkk_camb),type(ls2)"
   ]
  },
  {
   "cell_type": "code",
   "execution_count": null,
   "metadata": {
    "collapsed": false
   },
   "outputs": [],
   "source": [
    "# plot C_l^TT\n",
    "figure(1, figsize=(6,3))\n",
    "xscale('log');plt.yscale('linear');plt.xlim(2,2500)\n",
    "xlabel(r'$\\ell$',fontsize=16)\n",
    "ylabel(r'$[\\ell(\\ell+1)/2\\pi]  C_\\ell^\\mathrm{TT}$',fontsize=16)\n",
    "plot(ll,clTT*ll*(ll+1)/2./pi,'g-',lw=6,alpha=0.5,label='class')\n",
    "plot(ls,unlensedCL/2.725**2,'b-',label='camb')\n",
    "legend(loc=0,frameon=0)\n",
    "title('2019/4/4 TT comparison (tau=0)')"
   ]
  },
  {
   "cell_type": "code",
   "execution_count": null,
   "metadata": {
    "collapsed": false
   },
   "outputs": [],
   "source": [
    "# plot P(k)\n",
    "figure(2, figsize=(6,3))\n",
    "xscale('log');plt.yscale('log');plt.xlim(kk[0],kk[-1])\n",
    "xlabel(r'$k \\,\\,\\,\\, [h/\\mathrm{Mpc}]$',fontsize=16)\n",
    "ylabel(r'$P(k) \\,\\,\\,\\, [\\mathrm{Mpc}/h]^3$',fontsize=16)\n",
    "plot(kk,Pk,'g-',lw=6,alpha=0.5,label='class')\n",
    "plot(kcamb,Pkcamb[0],'b-',label='camb')\n",
    "title('2019/4/4 Pk comparison')\n",
    "legend(loc=0,frameon=0)"
   ]
  },
  {
   "cell_type": "code",
   "execution_count": null,
   "metadata": {
    "collapsed": false
   },
   "outputs": [],
   "source": [
    "#print type(ell),ell.shape, clkk.shape,ls2.shape, clkk_camb.shape"
   ]
  },
  {
   "cell_type": "code",
   "execution_count": null,
   "metadata": {
    "collapsed": false
   },
   "outputs": [],
   "source": [
    "# plot C_l^TT\n",
    "figure(3, figsize=(6,3))\n",
    "xscale('log');yscale('log');#xlim(2,2500)\n",
    "xlabel(r'$\\ell$',fontsize=16)\n",
    "ylabel(r'$[\\ell(\\ell+1)/2\\pi]  C_\\ell^\\mathrm{kk}$',fontsize=16)\n",
    "plot(ell,clkk*ell*(ell+1)/2./pi,'g-',lw=6,alpha=0.5,label='class')\n",
    "plot(ls2, clkk_camb,'b-',label='camb')\n",
    "legend(loc=0,frameon=0)\n",
    "title('2019/4/4 Clkk comparison (z_s=1)')"
   ]
  },
  {
   "cell_type": "code",
   "execution_count": null,
   "metadata": {
    "collapsed": false
   },
   "outputs": [],
   "source": [
    "######################################\n",
    "############## HMF ###################\n",
    "######################################\n",
    "\n",
    "mbins = arange(11, 15.5, 0.1)\n",
    "\n",
    "## murray\n",
    "import hmf\n",
    "import astropy.units as u\n",
    "HMF = hmf.MassFunction(cosmo_params={\"Ob0\":OmegaB, \"H0\":H0, \"Om0\":OmegaM, \n",
    "       \"m_nu\":array([0,0,0])*u.eV},z=0, sigma_8=si8,\n",
    "        Mmin=11, Mmax=15.5, dlog10m=0.1, n=n_s, delta_wrt='mean',\n",
    "       hmf_model=hmf.fitting_functions.Tinker08)\n",
    "\n",
    "from colossus.cosmology import cosmology as cosmo\n",
    "from colossus.lss import mass_function\n",
    "cosmo.setCosmology('myCosmo',{'flat': True, 'H0': H0, 'Om0': OmegaM, \n",
    "                              'Ob0': OmegaB, 'sigma8': si8, 'ns': n_s,'Ode0':OmegaDE,\n",
    "                              'de_model':'w0wa','w0':w0,'wa':wa})\n",
    "# mfunc_so = mass_function.massFunction(10**mbins, 0.0, mdef = '200c', model = 'tinker08',q_out = 'dndlnM')\n",
    "# mfunc_fof = mass_function.massFunction(10**mbins, 0.0, mdef = '200c', model = 'watson13',q_out = 'dndlnM')\n",
    "mfunc_so = mass_function.massFunction(10**mbins, 0.0, mdef = 'vir', model = 'tinker08',q_out = 'dndlnM')\n",
    "mfunc_fof = mass_function.massFunction(10**mbins, 0.0, mdef = 'fof', model = 'watson13',q_out = 'dndlnM')"
   ]
  },
  {
   "cell_type": "code",
   "execution_count": null,
   "metadata": {
    "collapsed": false
   },
   "outputs": [],
   "source": [
    "figure(4, figsize=(6,3))\n",
    "xscale('log');yscale('log');#xlim(2,2500)\n",
    "\n",
    "plot(10**mbins, mfunc_so/h**3,'g-',lw=6,alpha=0.5,label='colossus(SO)')\n",
    "plot(10**mbins, mfunc_fof/h**3,'r-',lw=2,alpha=1,label='colossus(FOF)')\n",
    "plot(10**mbins, HMF.dndlog10m,'b--',lw=2,label='Murray')\n",
    "xlabel(r'$M (M_\\odot/h)$',fontsize=16)\n",
    "ylabel(r'$\\frac{dn} {d\\log_{10}M} \\; (h^3/{\\rm Mpc}^3)$',fontsize=16)\n",
    "legend(loc=0,frameon=0)\n",
    "title('2019/4/4 HMF comparison (z=0)')"
   ]
  },
  {
   "cell_type": "code",
   "execution_count": null,
   "metadata": {
    "collapsed": true
   },
   "outputs": [],
   "source": []
  }
 ],
 "metadata": {
  "anaconda-cloud": {},
  "kernelspec": {
   "display_name": "Python [default]",
   "language": "python",
   "name": "python2"
  },
  "language_info": {
   "codemirror_mode": {
    "name": "ipython",
    "version": 2
   },
   "file_extension": ".py",
   "mimetype": "text/x-python",
   "name": "python",
   "nbconvert_exporter": "python",
   "pygments_lexer": "ipython2",
   "version": "2.7.12"
  }
 },
 "nbformat": 4,
 "nbformat_minor": 1
}
