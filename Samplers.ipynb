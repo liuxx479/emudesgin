{
 "cells": [
  {
   "cell_type": "code",
   "execution_count": 1,
   "metadata": {},
   "outputs": [],
   "source": [
    "''' Latin hypercube design\n",
    "Installation: pip install --upgrade pyDOE\n",
    "https://pythonhosted.org/pyDOE/randomized.html\n",
    "\n",
    "import sys\n",
    "!{sys.executable} -m pip install --upgrade pyDOE\n",
    "\n",
    "'''\n",
    "import numpy as np\n",
    "from matplotlib import pyplot as plt\n",
    "import pyDOE as pyDOE\n",
    "\n",
    "def rescale01(xmin, xmax, f):\n",
    "    return (f - xmin) / (xmax - xmin)\n"
   ]
  },
  {
   "cell_type": "code",
   "execution_count": 2,
   "metadata": {},
   "outputs": [],
   "source": [
    "num_evals = [32, 64, 128, 256, 512, 1024][0]  ## Total number of evaluations for training the emulator\n",
    "num_para = [3, 4, 5, 6, 7][0]\n",
    "design = ['latin', 'random', 'grid'][0]"
   ]
  },
  {
   "cell_type": "code",
   "execution_count": 3,
   "metadata": {},
   "outputs": [],
   "source": [
    "#### Parameters -- replace this and the limits #####\n",
    "\n",
    "####  para = np.linspace(lower_lim, upper_lim, total_eval)\n",
    "\n",
    "para1 = np.linspace(0.0, 0.62036, num_evals)  #OmegaM\n",
    "para2 = np.linspace(0.1841, 0.4159, num_evals) #Omegab\n",
    "para3 = np.linspace(1.2886, 2.9114, num_evals) # sigma8\n",
    "\n",
    "allPara = np.vstack([para1, para2, para3])"
   ]
  },
  {
   "cell_type": "code",
   "execution_count": 4,
   "metadata": {},
   "outputs": [],
   "source": [
    "\n",
    "def latinHyp(allParams, paramOutfile):\n",
    "    np.random.seed(421)\n",
    "    lhd = pyDOE.lhs(allParams.shape[0], samples=num_evals, criterion=None) # c cm corr m\n",
    "#     print(lhd)\n",
    "    # lhd = norm(loc=0, scale=1).ppf(lhd)  # this applies to both factors here\n",
    "    idx = (lhd * num_evals).astype(int)\n",
    "\n",
    "    allCombinations = np.zeros((num_evals, allParams.shape[0]))\n",
    "    for i in range(allParams.shape[0]):\n",
    "        allCombinations[:, i] = allParams[i][idx[:, i]]\n",
    "\n",
    "    np.savetxt(paramOutfile, allCombinations)\n",
    "    return allCombinations, lhd\n",
    "#         print(allCombinations)\n",
    "        \n",
    "        \n",
    "Outfile = design + '_para' + str(num_para) + '_total' + str(num_evals)\n",
    "allparams, lhd = latinHyp(allPara,  'Designs/' + Outfile + '.txt' )\n",
    "        "
   ]
  },
  {
   "cell_type": "code",
   "execution_count": 5,
   "metadata": {},
   "outputs": [
    {
     "data": {
      "image/png": "[encoded data removed]",
      "text/plain": [
       "<Figure size 432x288 with 6 Axes>"
      ]
     },
     "metadata": {
      "needs_background": "light"
     },
     "output_type": "display_data"
    }
   ],
   "source": [
    "##\n",
    "f, a = plt.subplots(allPara.shape[0], allPara.shape[0], sharex=True, sharey=True)\n",
    "plt.subplots_adjust(left=None, bottom=None, right=None, top=None, wspace=None, hspace=None)\n",
    "plt.rcParams.update({'font.size': 8})\n",
    "plt.suptitle('latin hypercube')\n",
    "for i in range(allPara.shape[0]):\n",
    "    for j in range(i+1):\n",
    "#         print(i,j)\n",
    "        if(i>j):\n",
    "            a[i, j].scatter(lhd[:, i], lhd[:, j], s=5)\n",
    "            a[i, j].grid(True)\n",
    "            \n",
    "        if(j<i):\n",
    "            plt.delaxes(a[j, i])\n",
    "        else:\n",
    "            # a[i,i].set_title(AllLabels[i])\n",
    "            # a[i, i].text(0.4, 0.4, AllLabels[i], size = 'xx-large')\n",
    "            hist, bin_edges = np.histogram(lhd[:,i], density=True, bins=8)\n",
    "            # a[i,i].bar(hist)\n",
    "            a[i,i].bar(bin_edges[:-1], hist/hist.max(), width=0.2)\n",
    "            plt.xlim(0,1)\n",
    "            plt.ylim(0,1)\n",
    "\n",
    "\n",
    "plt.savefig('Plots/' + Outfile + '.png', figsize=(10, 10))\n",
    "plt.show()"
   ]
  },
  {
   "cell_type": "code",
   "execution_count": 14,
   "metadata": {},
   "outputs": [],
   "source": [
    "design = ['latin', 'random', 'grid'][1]\n",
    "\n",
    "\n",
    "def randomDesign(allParams, paramOutfile):\n",
    "\n",
    "    \n",
    "    ## THIS NEEDS TO BE EDITED TO ACCOUNT FOR DIFFERENT #params\n",
    "#     np.random.seed(32)\n",
    "#     rnd0 = np.random.uniform(0, 1, num_evals)\n",
    "#     np.random.seed(31)\n",
    "#     rnd1 = np.random.uniform(0, 1, num_evals)\n",
    "#     np.random.seed(33)\n",
    "#     rnd2 = np.random.uniform(0, 1, num_evals)\n",
    "#     rnd = np.vstack([rnd0, rnd1, rnd2]).T\n",
    "\n",
    "\n",
    "    ## CHECK if it's uniform in every direction\n",
    "    np.random.seed(313)\n",
    "    rnd = np.random.uniform(0, 1, (num_evals, allParams.shape[0]) )\n",
    "    \n",
    "    idx = (rnd * num_evals).astype(int)\n",
    "    \n",
    "    allCombinations = np.zeros((num_evals, allParams.shape[0]))\n",
    "    for i in range(allParams.shape[0]):\n",
    "        allCombinations[:, i] = allParams[i][idx[:, i]]\n",
    "\n",
    "    np.savetxt(paramOutfile, allCombinations)\n",
    "    return allCombinations, rnd\n",
    "\n",
    "#         print(allCombinations)\n",
    "        \n",
    "        \n",
    "Outfile = design + '_para' + str(num_para) + '_total' + str(num_evals)\n",
    "allparams, rnd = randomDesign(allPara,  'Designs/' + Outfile + '.txt' )"
   ]
  },
  {
   "cell_type": "code",
   "execution_count": 15,
   "metadata": {},
   "outputs": [
    {
     "data": {
      "image/png": "[encoded data removed]",
      "text/plain": [
       "<Figure size 432x288 with 6 Axes>"
      ]
     },
     "metadata": {
      "needs_background": "light"
     },
     "output_type": "display_data"
    }
   ],
   "source": [
    "##\n",
    "f, a = plt.subplots(allPara.shape[0], allPara.shape[0], sharex=True, sharey=True)\n",
    "plt.subplots_adjust(left=None, bottom=None, right=None, top=None, wspace=None, hspace=None)\n",
    "plt.rcParams.update({'font.size': 8})\n",
    "plt.suptitle('random design')\n",
    "for i in range(allPara.shape[0]):\n",
    "    for j in range(i+1):\n",
    "#         print(i,j)\n",
    "        if(i>j):\n",
    "            a[i, j].scatter(rnd[:, i], rnd[:, j], s=5)\n",
    "            a[i, j].grid(True)\n",
    "        if(j<i):\n",
    "            plt.delaxes(a[j, i])\n",
    "        else:\n",
    "            # a[i,i].set_title(AllLabels[i])\n",
    "            # a[i, i].text(0.4, 0.4, AllLabels[i], size = 'xx-large')\n",
    "            hist, bin_edges = np.histogram(rnd[:,i], density=True, bins=8)\n",
    "            # a[i,i].bar(hist)\n",
    "            a[i,i].bar(bin_edges[:-1], hist/hist.max(), width=0.2)\n",
    "            plt.xlim(0,1)\n",
    "            plt.ylim(0,1)\n",
    "            \n",
    "\n",
    "\n",
    "plt.savefig('Plots/' + Outfile + '.png', figsize=(10, 10))\n",
    "plt.show()"
   ]
  },
  {
   "cell_type": "code",
   "execution_count": 16,
   "metadata": {},
   "outputs": [],
   "source": [
    "design = ['latin', 'random', 'grid'][2]\n",
    "\n",
    "\n",
    "def gridDesign(allParams, paramOutfile):\n",
    "\n",
    "    np.random.seed(313)\n",
    "    grd = np.random.uniform(0, 1, (num_evals, allParams.shape[0]) )\n",
    "    \n",
    "    idx = (grd * num_evals).astype(int)\n",
    "    \n",
    "    allCombinations = np.zeros((num_evals, allParams.shape[0]))\n",
    "    for i in range(allParams.shape[0]):\n",
    "        allCombinations[:, i] = allParams[i][idx[:, i]]\n",
    "\n",
    "    np.savetxt(paramOutfile, allCombinations)\n",
    "    return allCombinations, grd\n",
    "\n",
    "#         print(allCombinations)\n",
    "        \n",
    "        \n",
    "Outfile = design + '_para' + str(num_para) + '_total' + str(num_evals)\n",
    "allparams, grd = randomDesign(allPara,  'Designs/' + Outfile + '.txt' )"
   ]
  },
  {
   "cell_type": "code",
   "execution_count": 18,
   "metadata": {},
   "outputs": [
    {
     "data": {
      "text/plain": [
       "array([[1.65539624e-01, 5.50104366e-01, 8.60871802e-01],\n",
       "       [6.17933724e-01, 9.46246387e-01, 5.60857972e-01],\n",
       "       [8.69587486e-01, 1.72400475e-01, 4.52217029e-01],\n",
       "       [5.26132667e-01, 4.36334150e-01, 7.82979111e-01],\n",
       "       [5.92108205e-01, 2.99454694e-01, 8.51411084e-01],\n",
       "       [6.55452150e-02, 5.28919810e-01, 6.02019576e-02],\n",
       "       [7.62914680e-01, 5.88702606e-01, 4.57964824e-01],\n",
       "       [3.84688917e-01, 2.93848309e-01, 1.79845171e-01],\n",
       "       [6.17330867e-01, 2.39476073e-01, 2.10697447e-04],\n",
       "       [7.82183621e-01, 5.25643385e-01, 4.04801539e-01],\n",
       "       [6.12077635e-01, 4.51273873e-01, 6.84447790e-01],\n",
       "       [8.54061617e-01, 9.03409250e-01, 2.21380403e-01],\n",
       "       [8.92342499e-01, 1.40422463e-01, 3.58637230e-01],\n",
       "       [4.43466554e-01, 4.95260514e-01, 3.74235143e-01],\n",
       "       [3.19800262e-01, 9.47949633e-01, 7.88143589e-01],\n",
       "       [9.87244735e-01, 2.69112328e-01, 2.19514711e-01],\n",
       "       [8.27563430e-01, 2.79553223e-01, 5.25809824e-01],\n",
       "       [3.06753451e-01, 4.52222031e-02, 9.62618106e-01],\n",
       "       [7.92136223e-01, 5.38556501e-01, 1.81882526e-01],\n",
       "       [7.83133755e-01, 1.16167958e-01, 7.78950048e-01],\n",
       "       [6.87115951e-02, 9.44863866e-01, 7.47826723e-01],\n",
       "       [5.55579122e-01, 4.40446940e-01, 3.68676232e-02],\n",
       "       [8.01845421e-01, 5.26238531e-01, 9.55454770e-02],\n",
       "       [3.96035767e-01, 4.05700039e-01, 2.19495249e-02],\n",
       "       [5.19272598e-03, 1.62268611e-01, 6.06218683e-01],\n",
       "       [8.33829321e-01, 6.24295599e-01, 4.01454425e-01],\n",
       "       [4.25181001e-01, 7.58296049e-01, 8.81684233e-01],\n",
       "       [5.29466741e-01, 6.55055933e-01, 7.29538712e-01],\n",
       "       [2.42140791e-01, 8.14059124e-01, 7.17750505e-01],\n",
       "       [8.46531421e-01, 4.89482475e-01, 3.84354319e-01],\n",
       "       [6.69332778e-02, 8.46747166e-01, 8.12422228e-01],\n",
       "       [6.87165042e-02, 2.03099199e-01, 3.17032528e-01]])"
      ]
     },
     "execution_count": 18,
     "metadata": {},
     "output_type": "execute_result"
    }
   ],
   "source": []
  },
  {
   "cell_type": "code",
   "execution_count": null,
   "metadata": {},
   "outputs": [],
   "source": []
  }
 ],
 "metadata": {
  "kernelspec": {
   "display_name": "Python 2",
   "language": "python",
   "name": "python2"
  },
  "language_info": {
   "codemirror_mode": {
    "name": "ipython",
    "version": 3
   },
   "file_extension": ".py",
   "mimetype": "text/x-python",
   "name": "python",
   "nbconvert_exporter": "python",
   "pygments_lexer": "ipython3",
   "version": "3.5.2"
  }
 },
 "nbformat": 4,
 "nbformat_minor": 2
}
