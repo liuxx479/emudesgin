{
 "cells": [
  {
   "cell_type": "code",
   "execution_count": 4,
   "metadata": {},
   "outputs": [],
   "source": [
    "''' Latin hypercube design\n",
    "Installation: pip install --upgrade pyDOE\n",
    "https://pythonhosted.org/pyDOE/randomized.html\n",
    "\n",
    "import sys\n",
    "!{sys.executable} -m pip install --upgrade pyDOE\n",
    "\n",
    "'''\n",
    "import numpy as np\n",
    "from matplotlib import pyplot as plt\n",
    "import pyDOE as pyDOE\n",
    "\n",
    "def rescale01(xmin, xmax, f):\n",
    "    return (f - xmin) / (xmax - xmin)\n",
    "\n",
    "np.random.seed(42)\n"
   ]
  },
  {
   "cell_type": "code",
   "execution_count": 5,
   "metadata": {},
   "outputs": [],
   "source": [
    "num_evals = [32, 64, 128, 256, 512, 1024][0]  ## Total number of evaluations for training the emulator\n",
    "num_para = [3, 4, 5, 6, 7][0]\n",
    "design = ['latin', 'random', 'grid'][0]"
   ]
  },
  {
   "cell_type": "code",
   "execution_count": 6,
   "metadata": {},
   "outputs": [],
   "source": [
    "#### Parameters -- replace this and the limits #####\n",
    "\n",
    "####  para = np.linspace(lower_lim, upper_lim, total_eval)\n",
    "\n",
    "para1 = np.linspace(0.0, 0.62036, num_evals)  #OmegaM\n",
    "para2 = np.linspace(0.1841, 0.4159, num_evals) #Omegab\n",
    "para3 = np.linspace(1.2886, 2.9114, num_evals) # sigma8\n",
    "\n",
    "allPara = np.vstack([para1, para2, para3])"
   ]
  },
  {
   "cell_type": "code",
   "execution_count": 7,
   "metadata": {},
   "outputs": [
    {
     "name": "stdout",
     "output_type": "stream",
     "text": [
      "[[0.5554729  0.63347966 0.23019881]\n",
      " [0.37340267 0.03612558 0.39638228]\n",
      " [0.22310918 0.9339754  0.89780019]\n",
      " [0.42000477 0.09439327 0.48500213]\n",
      " [0.01170438 0.41006369 0.31453286]\n",
      " [0.86322807 0.47849097 0.44558687]\n",
      " [0.63714617 0.29976296 0.25623981]\n",
      " [0.98628991 0.5057767  0.12405968]\n",
      " [0.04995808 0.46591626 0.8457362 ]\n",
      " [0.16198139 0.56060934 0.17264864]\n",
      " [0.06431511 0.6650292  0.28270158]\n",
      " [0.74959022 0.1316356  0.55921335]\n",
      " [0.69190388 0.59130857 0.56526539]\n",
      " [0.48945382 0.99284272 0.42172428]\n",
      " [0.66739854 0.22787952 0.96127453]\n",
      " [0.8847182  0.16575757 0.65089805]\n",
      " [0.33148578 0.74288265 0.02287481]\n",
      " [0.92617367 0.089568   0.72495987]\n",
      " [0.82370205 0.27453675 0.92100672]\n",
      " [0.75017257 0.37805225 0.83947198]\n",
      " [0.15101383 0.88516198 0.67320925]\n",
      " [0.11587727 0.81612091 0.68982971]\n",
      " [0.59987446 0.02970982 0.77208929]\n",
      " [0.5170847  0.19660091 0.13068203]\n",
      " [0.20099828 0.77548317 0.98418111]\n",
      " [0.58118437 0.71256866 0.08128484]\n",
      " [0.38451918 0.8053522  0.03612483]\n",
      " [0.29731983 0.31782888 0.2066204 ]\n",
      " [0.80403147 0.59516335 0.36901242]\n",
      " [0.94123732 0.9597889  0.60391657]\n",
      " [0.43857464 0.373926   0.7835639 ]\n",
      " [0.26425219 0.85409056 0.53029952]]\n"
     ]
    },
    {
     "data": {
      "text/plain": [
       "<function print>"
      ]
     },
     "execution_count": 7,
     "metadata": {},
     "output_type": "execute_result"
    }
   ],
   "source": [
    "\n",
    "def latinhyp(allParams, paramOutfile):\n",
    "    lhd = pyDOE.lhs(allParams.shape[0], samples=num_evals, criterion=None) # c cm corr m\n",
    "    print(lhd)\n",
    "    # lhd = norm(loc=0, scale=1).ppf(lhd)  # this applies to both factors here\n",
    "    idx = (lhd * num_evals).astype(int)\n",
    "\n",
    "    AllCombinations = np.zeros((num_evals, allParams.shape[0]))\n",
    "    for i in range(allParams.shape[0]):\n",
    "        allCombinations[:, i] = allParams[i][idx[:, i]]\n",
    "\n",
    "        np.savetxt(paramOutfile, allCombinations)   #### no\n",
    "\n",
    "        print(allCombinations)\n",
    "        \n",
    "        \n",
    "Outfile = design + '_num' + num_para + \n",
    "latinhyp(allPara, )\n",
    "        "
   ]
  },
  {
   "cell_type": "code",
   "execution_count": 9,
   "metadata": {},
   "outputs": [
    {
     "data": {
      "image/png": "[encoded data removed]",
      "text/plain": [
       "<Figure size 432x288 with 9 Axes>"
      ]
     },
     "metadata": {
      "needs_background": "light"
     },
     "output_type": "display_data"
    }
   ],
   "source": [
    "##\n",
    "f, a = plt.subplots(AllPara.shape[0], AllPara.shape[0], sharex=True, sharey=True)\n",
    "plt.subplots_adjust(left=None, bottom=None, right=None, top=None, wspace=None, hspace=None)\n",
    "plt.rcParams.update({'font.size': 8})\n",
    "\n",
    "for i in range(AllPara.shape[0]):\n",
    "    for j in range(i+1):\n",
    "#         print(i,j)\n",
    "        if(i!=j):\n",
    "            a[i, j].scatter(lhd[:, i], lhd[:, j], s=5)\n",
    "            a[i, j].grid(True)\n",
    "        else:\n",
    "            # a[i,i].set_title(AllLabels[i])\n",
    "            # a[i, i].text(0.4, 0.4, AllLabels[i], size = 'xx-large')\n",
    "            hist, bin_edges = np.histogram(lhd[:,i], density=True, bins=64)\n",
    "            # a[i,i].bar(hist)\n",
    "            a[i,i].bar(bin_edges[:-1], hist/hist.max(), width=0.2)\n",
    "            plt.xlim(0,1)\n",
    "            plt.ylim(0,1)\n",
    "\n",
    "\n",
    "#plt.savefig('../Cl_data/Plots/LatinSq.png', figsize=(10, 10))\n",
    "plt.show()"
   ]
  },
  {
   "cell_type": "code",
   "execution_count": 10,
   "metadata": {},
   "outputs": [
    {
     "name": "stdout",
     "output_type": "stream",
     "text": [
      "[[0.34019742 0.33364839 1.65503871]\n",
      " [0.22012774 0.19157742 1.91678065]\n",
      " [0.14008129 0.40094516 2.75435484]\n",
      " [0.26015097 0.20653226 2.07382581]\n",
      " [0.         0.28130645 1.81208387]\n",
      " [0.54031355 0.29626129 2.02147742]\n",
      " [0.40023226 0.25139677 1.7073871 ]\n",
      " [0.62036    0.30373871 1.44564516]\n",
      " [0.02001161 0.28878387 2.70200645]\n",
      " [0.10005806 0.31121613 1.55034194]\n",
      " [0.04002323 0.34112581 1.75973548]\n",
      " [0.4602671  0.21400968 2.17852258]\n",
      " [0.44025548 0.31869355 2.23087097]\n",
      " [0.30017419 0.4159     1.96912903]\n",
      " [0.42024387 0.23644194 2.85905161]\n",
      " [0.56032516 0.2214871  2.33556774]\n",
      " [0.20011613 0.35608065 1.2886    ]\n",
      " [0.58033677 0.19905484 2.4926129 ]\n",
      " [0.52030194 0.24391935 2.80670323]\n",
      " [0.48027871 0.27382903 2.64965806]\n",
      " [0.08004645 0.39346774 2.38791613]\n",
      " [0.06003484 0.3785129  2.44026452]\n",
      " [0.38022065 0.1841     2.54496129]\n",
      " [0.32018581 0.22896452 1.49799355]\n",
      " [0.12006968 0.36355806 2.9114    ]\n",
      " [0.36020903 0.34860323 1.39329677]\n",
      " [0.24013935 0.37103548 1.34094839]\n",
      " [0.18010452 0.25887419 1.60269032]\n",
      " [0.50029032 0.32617097 1.86443226]\n",
      " [0.60034839 0.40842258 2.28321935]\n",
      " [0.28016258 0.26635161 2.59730968]\n",
      " [0.1600929  0.38599032 2.12617419]]\n"
     ]
    }
   ],
   "source": []
  },
  {
   "cell_type": "code",
   "execution_count": null,
   "metadata": {},
   "outputs": [],
   "source": []
  }
 ],
 "metadata": {
  "kernelspec": {
   "display_name": "Python 2",
   "language": "python",
   "name": "python2"
  },
  "language_info": {
   "codemirror_mode": {
    "name": "ipython",
    "version": 3
   },
   "file_extension": ".py",
   "mimetype": "text/x-python",
   "name": "python",
   "nbconvert_exporter": "python",
   "pygments_lexer": "ipython3",
   "version": "3.5.2"
  }
 },
 "nbformat": 4,
 "nbformat_minor": 2
}
