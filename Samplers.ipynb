{
 "cells": [
  {
   "cell_type": "code",
   "execution_count": 1,
   "metadata": {},
   "outputs": [
    {
     "data": {
      "text/plain": [
       "' \\nInstallation: pip install --upgrade pyDOE\\nhttps://pythonhosted.org/pyDOE/randomized.html\\n\\nimport sys\\n!{sys.executable} -m pip install --upgrade pyDOE\\n\\n'"
      ]
     },
     "execution_count": 1,
     "metadata": {},
     "output_type": "execute_result"
    }
   ],
   "source": [
    "# Implementation of 3 experimental designs:\n",
    "## 1. Latin hypercube \n",
    "## 2. Grid \n",
    "## 3. Uniform design\n",
    "\n",
    "''' \n",
    "Installation: pip install --upgrade pyDOE\n",
    "https://pythonhosted.org/pyDOE/randomized.html\n",
    "\n",
    "import sys\n",
    "!{sys.executable} -m pip install --upgrade pyDOE\n",
    "\n",
    "'''"
   ]
  },
  {
   "cell_type": "code",
   "execution_count": 2,
   "metadata": {},
   "outputs": [],
   "source": [
    "# Python imports \n",
    "\n",
    "import numpy as np\n",
    "from matplotlib import pyplot as plt\n",
    "import pyDOE as pyDOE"
   ]
  },
  {
   "cell_type": "code",
   "execution_count": 3,
   "metadata": {},
   "outputs": [],
   "source": [
    "# Input parameters \n",
    "\n",
    "num_para = [3, 4, 5, 6, 7][0]\n",
    "grid_evals = np.array([2, 3, 4, 5, 6, 7, 8])[6]\n",
    "num_evals = grid_evals**num_para  ## Total number of evaluations for training the emulator (based on grid)\n",
    "# num_evals = np.array([10, 100, 1000, 10000])[1]  ## Total number of evaluations (applicable for lhc and random)\n",
    "design_all = ['latin', 'random', 'grid']"
   ]
  },
  {
   "cell_type": "code",
   "execution_count": 4,
   "metadata": {},
   "outputs": [],
   "source": [
    "# WithRange = False\n",
    "\n",
    "def paramsWithRange():\n",
    "    # Parameters defined with ranges\n",
    "\n",
    "    #### replace this and the limits #####\n",
    "    ####  para = np.linspace(lower_lim, upper_lim, total_eval)\n",
    "        \n",
    "    gridpara1 = np.linspace(0.0, 0.62036, grid_evals)  #OmegaM\n",
    "    gridpara2 = np.linspace(0.1841, 0.4159, grid_evals) #Omegab\n",
    "    gridpara3 = np.linspace(1.2886, 2.9114, grid_evals) # sigma8\n",
    "\n",
    "    allGrid = np.vstack([gridpara1, gridpara2, gridpara3])\n",
    "\n",
    "    para1 = np.linspace(0.0, 0.62036, num_evals)  #OmegaM\n",
    "    para2 = np.linspace(0.1841, 0.4159, num_evals) #Omegab\n",
    "    para3 = np.linspace(1.2886, 2.9114, num_evals) # sigma8\n",
    "\n",
    "    allPara = np.vstack([para1, para2, para3])\n",
    "    \n",
    "    return allGrid, allPara\n",
    "\n",
    "# def Rescaledparams(num_para, grid_evals, num_evals):\n",
    "def Rescaledparams(num_para, num_evals):\n",
    "\n",
    "    ### Samples between 0-1 and rescaling will be taken care of later\n",
    "    \n",
    "    allPara = np.zeros(shape=(num_para, num_evals))\n",
    "#     allGrid = np.zeros(shape=(num_para, grid_evals))\n",
    "\n",
    "    for ii in range(num_para):\n",
    "        allPara[ii, :] = np.linspace(0, 1, num_evals)\n",
    "#         allGrid[ii, :] = np.linspace(0, 1, grid_evals) \n",
    "        \n",
    "    return allPara#, allGrid\n"
   ]
  },
  {
   "cell_type": "code",
   "execution_count": 5,
   "metadata": {},
   "outputs": [],
   "source": [
    "def gridDesign(allGridParams, paramOutDir):\n",
    "    ## NEEDS TO BE CHANGED BASED ON num_para\n",
    "    print(grid_evals)\n",
    "    print(allGridParams.shape)\n",
    "    \n",
    "#     num_para = allGridParams.shape[0]\n",
    "    \n",
    "#     if (allGridParams.shape[1]**num_para != (num_evals) ):\n",
    "#         print('grid ', allGridParams.shape[1])\n",
    "#         print('num_params ', num_para)\n",
    "#         print('num_evals ', num_evals)\n",
    "#         print('Number of grid evaluations need to be k^num_para')\n",
    "#         return None\n",
    "    \n",
    "    if True:\n",
    "#         num_para = allGridParams.shape[0]\n",
    "#         num_evals = allGridParams.shape[1]\n",
    "\n",
    "        grd = np.array(np.meshgrid(allGridParams[0], allGridParams[1], allGridParams[2]) )\n",
    "\n",
    "        allCombinations = np.vstack( [np.ravel(grd[0]), np.ravel(grd[1]), np.ravel(grd[2])] ).T\n",
    "        \n",
    "        Outfile = 'grid_para' + str(allCombinations.shape[1]) + '_total' + str(allCombinations.shape[0])\n",
    "        paramOutfile = paramOutDir + Outfile + '.txt'\n",
    "\n",
    "        print(paramOutfile)\n",
    "        np.savetxt(paramOutfile, allCombinations)\n",
    "        return allCombinations     "
   ]
  },
  {
   "cell_type": "code",
   "execution_count": 6,
   "metadata": {},
   "outputs": [],
   "source": [
    "def latinHyp(allParams, paramOutDir):\n",
    "    np.random.seed(421)\n",
    "    num_para = allParams.shape[0]\n",
    "    num_evals = allParams.shape[1]\n",
    "    \n",
    "    lhd = pyDOE.lhs(num_para, samples=num_evals, criterion=None) # c cm corr m\n",
    "    # lhd = norm(loc=0, scale=1).ppf(lhd)  # this applies to both factors here\n",
    "    idx = (lhd * num_evals).astype(int)\n",
    "\n",
    "    allCombinations = np.zeros((num_evals, num_para))\n",
    "    for i in range(num_para):\n",
    "        allCombinations[:, i] = allParams[i][idx[:, i]]\n",
    "    \n",
    "    Outfile =  'latin_para' + str(num_para) + '_total' + str(num_evals)\n",
    "    paramOutfile = paramOutDir + Outfile + '.txt'\n",
    "    \n",
    "    \n",
    "    print(paramOutfile)\n",
    "    np.savetxt(paramOutfile, allCombinations)\n",
    "    return allCombinations, lhd"
   ]
  },
  {
   "cell_type": "code",
   "execution_count": 7,
   "metadata": {},
   "outputs": [],
   "source": [
    "def randomDesign(allParams, paramOutDir):\n",
    "    ## CHECK if it's uniform in every direction\n",
    "    np.random.seed(313)\n",
    "    num_para = allParams.shape[0]\n",
    "    num_evals = allParams.shape[1]\n",
    "    \n",
    "    rnd = np.random.uniform(0, 1, (num_evals, num_para) )\n",
    "    \n",
    "    idx = (rnd * num_evals).astype(int)\n",
    "    \n",
    "    allCombinations = np.zeros((num_evals, num_para))\n",
    "    for i in range(num_para):\n",
    "        allCombinations[:, i] = allParams[i][idx[:, i]]\n",
    "        \n",
    "    Outfile =  'random_para' + str(num_para) + '_total' + str(num_evals)\n",
    "    paramOutfile = paramOutDir + Outfile + '.txt'\n",
    "\n",
    "    \n",
    "    print(paramOutfile)\n",
    "    np.savetxt(paramOutfile, allCombinations)\n",
    "    return allCombinations, rnd"
   ]
  },
  {
   "cell_type": "code",
   "execution_count": 8,
   "metadata": {},
   "outputs": [
    {
     "name": "stdout",
     "output_type": "stream",
     "text": [
      "Designs/latin_para5_total100.txt\n"
     ]
    },
    {
     "data": {
      "image/png": "[encoded data removed]",
      "text/plain": [
       "<Figure size 432x288 with 15 Axes>"
      ]
     },
     "metadata": {
      "needs_background": "light"
     },
     "output_type": "display_data"
    }
   ],
   "source": [
    "### Testing lhc design\n",
    "\n",
    "design = design_all[0]   \n",
    "\n",
    "allPara = Rescaledparams(num_para=5, num_evals= 100)\n",
    "lhdParams, lhd = latinHyp(allPara,  'Designs/')\n",
    "        \n",
    "    \n",
    "##\n",
    "f, a = plt.subplots(allPara.shape[0], allPara.shape[0], sharex=True, sharey=True)\n",
    "plt.subplots_adjust(left=None, bottom=None, right=None, top=None, wspace=None, hspace=None)\n",
    "plt.rcParams.update({'font.size': 8})\n",
    "plt.suptitle(design + ' design')\n",
    "for i in range(allPara.shape[0]):\n",
    "    for j in range(i+1):\n",
    "#         print(i,j)\n",
    "        if(i>j):\n",
    "            a[i, j].scatter(lhd[:, i], lhd[:, j], s=5)\n",
    "            a[i, j].grid(True)\n",
    "            \n",
    "        if(j<i):\n",
    "            plt.delaxes(a[j, i])\n",
    "        else:\n",
    "            # a[i,i].set_title(AllLabels[i])\n",
    "            # a[i, i].text(0.4, 0.4, AllLabels[i], size = 'xx-large')\n",
    "            hist, bin_edges = np.histogram(lhd[:,i], density=True, bins=8)\n",
    "            # a[i,i].bar(hist)\n",
    "            a[i,i].bar(bin_edges[:-1], hist/hist.max(), width=0.2)\n",
    "            plt.xlim(0,1)\n",
    "            plt.ylim(0,1)\n",
    "\n",
    "Outfile =  'latin_para' + str(num_para) + '_total' + str(num_evals)\n",
    "plt.savefig('Plots/' + Outfile + '.png', figsize=(10, 10))\n",
    "plt.show()"
   ]
  },
  {
   "cell_type": "code",
   "execution_count": 9,
   "metadata": {},
   "outputs": [
    {
     "name": "stdout",
     "output_type": "stream",
     "text": [
      "Designs/random_para5_total10.txt\n"
     ]
    },
    {
     "data": {
      "image/png": "[encoded data removed]",
      "text/plain": [
       "<Figure size 432x288 with 15 Axes>"
      ]
     },
     "metadata": {
      "needs_background": "light"
     },
     "output_type": "display_data"
    }
   ],
   "source": [
    "### testing uniform random design\n",
    "\n",
    "design = design_all[1]\n",
    "        \n",
    "# Outfile = design + '_para' + str(num_para) + '_total' + str(num_evals)\n",
    "allPara = Rescaledparams(num_para=5, num_evals= 10)\n",
    "rndParams, rnd = randomDesign(allPara,  'Designs/')\n",
    "\n",
    "##\n",
    "f, a = plt.subplots(allPara.shape[0], allPara.shape[0], sharex=True, sharey=True)\n",
    "plt.subplots_adjust(left=None, bottom=None, right=None, top=None, wspace=None, hspace=None)\n",
    "plt.rcParams.update({'font.size': 8})\n",
    "plt.suptitle(design + ' design')\n",
    "for i in range(allPara.shape[0]):\n",
    "    for j in range(i+1):\n",
    "#         print(i,j)\n",
    "        if(i>j):\n",
    "            a[i, j].scatter(rnd[:, i], rnd[:, j], s=5)\n",
    "            a[i, j].grid(True)\n",
    "        if(j<i):\n",
    "            plt.delaxes(a[j, i])\n",
    "        else:\n",
    "            # a[i,i].set_title(AllLabels[i])\n",
    "            # a[i, i].text(0.4, 0.4, AllLabels[i], size = 'xx-large')\n",
    "            hist, bin_edges = np.histogram(rnd[:,i], density=True, bins=8)\n",
    "            # a[i,i].bar(hist)\n",
    "            a[i,i].bar(bin_edges[:-1], hist/hist.max(), width=0.2)\n",
    "            plt.xlim(0,1)\n",
    "            plt.ylim(0,1)\n",
    "\n",
    "            \n",
    "\n",
    "Outfile =  'random_para' + str(num_para) + '_total' + str(num_evals)\n",
    "plt.savefig('Plots/' + Outfile + '.png', figsize=(10, 10))\n",
    "plt.show()"
   ]
  },
  {
   "cell_type": "code",
   "execution_count": 10,
   "metadata": {},
   "outputs": [
    {
     "name": "stdout",
     "output_type": "stream",
     "text": [
      "8\n",
      "(3, 9)\n",
      "Designs/grid_para3_total729.txt\n"
     ]
    },
    {
     "data": {
      "image/png": "[encoded data removed]",
      "text/plain": [
       "<Figure size 432x288 with 6 Axes>"
      ]
     },
     "metadata": {
      "needs_background": "light"
     },
     "output_type": "display_data"
    }
   ],
   "source": [
    "### testing grid design\n",
    "\n",
    "design = design_all[2]\n",
    "\n",
    "# num_para = 5\n",
    "# num_evals = 27\n",
    "# grid_evals = 4\n",
    "\n",
    "\n",
    "allGrid = Rescaledparams(num_para=3, num_evals= 9)\n",
    "gridParams = gridDesign(allGrid,  'Designs/')\n",
    "\n",
    "##\n",
    "f, a = plt.subplots(allGrid.shape[0], allGrid.shape[0])\n",
    "plt.subplots_adjust(left=None, bottom=None, right=None, top=None, wspace=None, hspace=None)\n",
    "plt.rcParams.update({'font.size': 8})\n",
    "plt.suptitle(design + ' design')\n",
    "for i in range(allGrid.shape[0]):\n",
    "    for j in range(i+1):\n",
    "#         print(i,j)\n",
    "        if(i>j):\n",
    "            a[i, j].scatter(gridParams[:, i], gridParams[:, j], s=5)\n",
    "            a[i, j].grid(True)\n",
    "        if(j<i):\n",
    "            plt.delaxes(a[j, i])\n",
    "        else:\n",
    "            # a[i,i].set_title(AllLabels[i])\n",
    "            # a[i, i].text(0.4, 0.4, AllLabels[i], size = 'xx-large')\n",
    "            hist, bin_edges = np.histogram(gridParams[:, i], density=True, bins=8)\n",
    "            # a[i,i].bar(hist)\n",
    "            a[i,i].bar(bin_edges[:-1], hist/hist.max(), width=0.2)\n",
    "\n",
    "## Plot looks like 9 points, but they're are coincided on the grids\n",
    "\n",
    "Outfile = 'grid_para' + str(num_para) + '_total' + str(num_evals)\n",
    "plt.savefig('Plots/' + Outfile + '.png', figsize=(10, 10))\n",
    "plt.show()"
   ]
  },
  {
   "cell_type": "code",
   "execution_count": 11,
   "metadata": {},
   "outputs": [
    {
     "name": "stdout",
     "output_type": "stream",
     "text": [
      "4\n",
      "(5, 4)\n",
      "Designs/grid_para3_total64.txt\n"
     ]
    }
   ],
   "source": [
    "### testing grid design\n",
    "\n",
    "design = design_all[2]\n",
    "\n",
    "num_para = 5\n",
    "# num_evals = 27\n",
    "grid_evals = 4\n",
    "\n",
    "\n",
    "allGrid = Rescaledparams(num_para=num_para, num_evals= grid_evals)\n",
    "gridParams = gridDesign(allGrid,  'Designs/')\n"
   ]
  },
  {
   "cell_type": "code",
   "execution_count": 12,
   "metadata": {},
   "outputs": [
    {
     "data": {
      "text/plain": [
       "4"
      ]
     },
     "execution_count": 12,
     "metadata": {},
     "output_type": "execute_result"
    }
   ],
   "source": [
    "grid_evals"
   ]
  },
  {
   "cell_type": "code",
   "execution_count": 13,
   "metadata": {},
   "outputs": [
    {
     "data": {
      "text/plain": [
       "(100, 5)"
      ]
     },
     "execution_count": 13,
     "metadata": {},
     "output_type": "execute_result"
    }
   ],
   "source": [
    "lhdParams.shape"
   ]
  },
  {
   "cell_type": "code",
   "execution_count": 14,
   "metadata": {},
   "outputs": [
    {
     "data": {
      "text/plain": [
       "(10, 5)"
      ]
     },
     "execution_count": 14,
     "metadata": {},
     "output_type": "execute_result"
    }
   ],
   "source": [
    "rndParams.shape"
   ]
  }
 ],
 "metadata": {
  "kernelspec": {
   "display_name": "Python 2",
   "language": "python",
   "name": "python2"
  },
  "language_info": {
   "codemirror_mode": {
    "name": "ipython",
    "version": 3
   },
   "file_extension": ".py",
   "mimetype": "text/x-python",
   "name": "python",
   "nbconvert_exporter": "python",
   "pygments_lexer": "ipython3",
   "version": "3.5.2"
  }
 },
 "nbformat": 4,
 "nbformat_minor": 2
}
