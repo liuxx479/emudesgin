{
 "cells": [
  {
   "cell_type": "code",
   "execution_count": 88,
   "metadata": {},
   "outputs": [],
   "source": [
    "''' Latin hypercube design\n",
    "Installation: pip install --upgrade pyDOE\n",
    "https://pythonhosted.org/pyDOE/randomized.html\n",
    "\n",
    "import sys\n",
    "!{sys.executable} -m pip install --upgrade pyDOE\n",
    "\n",
    "'''\n",
    "import numpy as np\n",
    "from matplotlib import pyplot as plt\n",
    "import pyDOE as pyDOE\n",
    "\n",
    "def rescale01(xmin, xmax, f):\n",
    "    return (f - xmin) / (xmax - xmin)\n"
   ]
  },
  {
   "cell_type": "code",
   "execution_count": 172,
   "metadata": {},
   "outputs": [],
   "source": [
    "# num_evals = [32, 64, 128, 256, 512, 1024][0]  ## Total number of evaluations for training the emulator\n",
    "grid_evals = np.array([2, 3, 4, 5])[1]\n",
    "num_evals = 4**grid_evals  ## Total number of evaluations for training the emulator\n",
    "num_para = [3, 4, 5, 6, 7][0]\n",
    "design = ['latin', 'random', 'grid'][0]"
   ]
  },
  {
   "cell_type": "code",
   "execution_count": 173,
   "metadata": {},
   "outputs": [],
   "source": [
    "#### Parameters -- replace this and the limits #####\n",
    "\n",
    "####  para = np.linspace(lower_lim, upper_lim, total_eval)\n",
    "\n",
    "gridpara1 = np.linspace(0.0, 0.62036, grid_evals)  #OmegaM\n",
    "gridpara2 = np.linspace(0.1841, 0.4159, grid_evals) #Omegab\n",
    "gridpara3 = np.linspace(1.2886, 2.9114, grid_evals) # sigma8\n",
    "\n",
    "allGrid = np.vstack([gridpara1, gridpara2, gridpara3])\n",
    "\n",
    "para1 = np.linspace(0.0, 0.62036, num_evals)  #OmegaM\n",
    "para2 = np.linspace(0.1841, 0.4159, num_evals) #Omegab\n",
    "para3 = np.linspace(1.2886, 2.9114, num_evals) # sigma8\n",
    "\n",
    "allPara = np.vstack([para1, para2, para3])"
   ]
  },
  {
   "cell_type": "code",
   "execution_count": 91,
   "metadata": {},
   "outputs": [],
   "source": [
    "\n",
    "def latinHyp(allParams, paramOutfile):\n",
    "    np.random.seed(421)\n",
    "    lhd = pyDOE.lhs(allParams.shape[0], samples=num_evals, criterion=None) # c cm corr m\n",
    "#     print(lhd)\n",
    "    # lhd = norm(loc=0, scale=1).ppf(lhd)  # this applies to both factors here\n",
    "    idx = (lhd * num_evals).astype(int)\n",
    "\n",
    "    allCombinations = np.zeros((num_evals, allParams.shape[0]))\n",
    "    for i in range(allParams.shape[0]):\n",
    "        allCombinations[:, i] = allParams[i][idx[:, i]]\n",
    "\n",
    "    np.savetxt(paramOutfile, allCombinations)\n",
    "    return allCombinations, lhd\n",
    "#         print(allCombinations)\n",
    "        \n",
    "        \n",
    "Outfile = design + '_para' + str(num_para) + '_total' + str(num_evals)\n",
    "allparams, lhd = latinHyp(allPara,  'Designs/' + Outfile + '.txt' )\n",
    "        "
   ]
  },
  {
   "cell_type": "code",
   "execution_count": 92,
   "metadata": {},
   "outputs": [
    {
     "data": {
      "image/png": "[encoded data removed]",
      "text/plain": [
       "<Figure size 432x288 with 6 Axes>"
      ]
     },
     "metadata": {
      "needs_background": "light"
     },
     "output_type": "display_data"
    }
   ],
   "source": [
    "##\n",
    "f, a = plt.subplots(allPara.shape[0], allPara.shape[0], sharex=True, sharey=True)\n",
    "plt.subplots_adjust(left=None, bottom=None, right=None, top=None, wspace=None, hspace=None)\n",
    "plt.rcParams.update({'font.size': 8})\n",
    "plt.suptitle('latin hypercube')\n",
    "for i in range(allPara.shape[0]):\n",
    "    for j in range(i+1):\n",
    "#         print(i,j)\n",
    "        if(i>j):\n",
    "            a[i, j].scatter(lhd[:, i], lhd[:, j], s=5)\n",
    "            a[i, j].grid(True)\n",
    "            \n",
    "        if(j<i):\n",
    "            plt.delaxes(a[j, i])\n",
    "        else:\n",
    "            # a[i,i].set_title(AllLabels[i])\n",
    "            # a[i, i].text(0.4, 0.4, AllLabels[i], size = 'xx-large')\n",
    "            hist, bin_edges = np.histogram(lhd[:,i], density=True, bins=8)\n",
    "            # a[i,i].bar(hist)\n",
    "            a[i,i].bar(bin_edges[:-1], hist/hist.max(), width=0.2)\n",
    "            plt.xlim(0,1)\n",
    "            plt.ylim(0,1)\n",
    "\n",
    "\n",
    "plt.savefig('Plots/' + Outfile + '.png', figsize=(10, 10))\n",
    "plt.show()"
   ]
  },
  {
   "cell_type": "code",
   "execution_count": 93,
   "metadata": {},
   "outputs": [],
   "source": [
    "design = ['latin', 'random', 'grid'][1]\n",
    "\n",
    "\n",
    "def randomDesign(allParams, paramOutfile):\n",
    "\n",
    "    \n",
    "    ## THIS NEEDS TO BE EDITED TO ACCOUNT FOR DIFFERENT #params\n",
    "#     np.random.seed(32)\n",
    "#     rnd0 = np.random.uniform(0, 1, num_evals)\n",
    "#     np.random.seed(31)\n",
    "#     rnd1 = np.random.uniform(0, 1, num_evals)\n",
    "#     np.random.seed(33)\n",
    "#     rnd2 = np.random.uniform(0, 1, num_evals)\n",
    "#     rnd = np.vstack([rnd0, rnd1, rnd2]).T\n",
    "\n",
    "\n",
    "    ## CHECK if it's uniform in every direction\n",
    "    np.random.seed(313)\n",
    "    rnd = np.random.uniform(0, 1, (num_evals, allParams.shape[0]) )\n",
    "    \n",
    "    idx = (rnd * num_evals).astype(int)\n",
    "    \n",
    "    allCombinations = np.zeros((num_evals, allParams.shape[0]))\n",
    "    for i in range(allParams.shape[0]):\n",
    "        allCombinations[:, i] = allParams[i][idx[:, i]]\n",
    "\n",
    "    np.savetxt(paramOutfile, allCombinations)\n",
    "    return allCombinations, rnd\n",
    "\n",
    "#         print(allCombinations)\n",
    "        \n",
    "        \n",
    "Outfile = design + '_para' + str(num_para) + '_total' + str(num_evals)\n",
    "allparams, rnd = randomDesign(allPara,  'Designs/' + Outfile + '.txt' )"
   ]
  },
  {
   "cell_type": "code",
   "execution_count": 94,
   "metadata": {},
   "outputs": [
    {
     "data": {
      "image/png": "[encoded data removed]",
      "text/plain": [
       "<Figure size 432x288 with 6 Axes>"
      ]
     },
     "metadata": {
      "needs_background": "light"
     },
     "output_type": "display_data"
    }
   ],
   "source": [
    "##\n",
    "f, a = plt.subplots(allPara.shape[0], allPara.shape[0], sharex=True, sharey=True)\n",
    "plt.subplots_adjust(left=None, bottom=None, right=None, top=None, wspace=None, hspace=None)\n",
    "plt.rcParams.update({'font.size': 8})\n",
    "plt.suptitle('random design')\n",
    "for i in range(allPara.shape[0]):\n",
    "    for j in range(i+1):\n",
    "#         print(i,j)\n",
    "        if(i>j):\n",
    "            a[i, j].scatter(rnd[:, i], rnd[:, j], s=5)\n",
    "            a[i, j].grid(True)\n",
    "        if(j<i):\n",
    "            plt.delaxes(a[j, i])\n",
    "        else:\n",
    "            # a[i,i].set_title(AllLabels[i])\n",
    "            # a[i, i].text(0.4, 0.4, AllLabels[i], size = 'xx-large')\n",
    "            hist, bin_edges = np.histogram(rnd[:,i], density=True, bins=8)\n",
    "            # a[i,i].bar(hist)\n",
    "            a[i,i].bar(bin_edges[:-1], hist/hist.max(), width=0.2)\n",
    "            plt.xlim(0,1)\n",
    "            plt.ylim(0,1)\n",
    "            \n",
    "\n",
    "\n",
    "plt.savefig('Plots/' + Outfile + '.png', figsize=(10, 10))\n",
    "plt.show()"
   ]
  },
  {
   "cell_type": "code",
   "execution_count": 159,
   "metadata": {},
   "outputs": [],
   "source": [
    "design = ['latin', 'random', 'grid'][2]\n",
    "\n",
    "\n",
    "def gridDesign(allParams, paramOutfile):\n",
    "    ## NEEDS TO BE CHANGED BASED ON num_para\n",
    "    grd = np.array(np.meshgrid(allParams[0], allParams[1], allParams[2]) )\n",
    "    \n",
    "    allCombinations = np.vstack( [np.ravel(grd[0]), np.ravel(grd[1]), np.ravel(grd[2])] )\n",
    "\n",
    "    np.savetxt(paramOutfile, allCombinations)\n",
    "    return allCombinations\n",
    "        \n",
    "        \n",
    "Outfile = design + '_para' + str(num_para) + '_total' + str(num_evals)\n",
    "gridParams = gridDesign(allPara,  'Designs/' + Outfile + '.txt' )"
   ]
  },
  {
   "cell_type": "code",
   "execution_count": 165,
   "metadata": {},
   "outputs": [
    {
     "data": {
      "text/plain": [
       "(3, 262144)"
      ]
     },
     "execution_count": 165,
     "metadata": {},
     "output_type": "execute_result"
    }
   ],
   "source": [
    "gridParams.shape"
   ]
  },
  {
   "cell_type": "code",
   "execution_count": 71,
   "metadata": {},
   "outputs": [],
   "source": [
    "# aall = np.linspace(0, 1, 4)\n",
    "# grd = np.array(np.meshgrid(aall, aall, aall))"
   ]
  },
  {
   "cell_type": "code",
   "execution_count": 72,
   "metadata": {},
   "outputs": [
    {
     "data": {
      "text/plain": [
       "(3, 4, 4, 4)"
      ]
     },
     "execution_count": 72,
     "metadata": {},
     "output_type": "execute_result"
    }
   ],
   "source": [
    "np.array(grd).shape"
   ]
  },
  {
   "cell_type": "code",
   "execution_count": 164,
   "metadata": {},
   "outputs": [
    {
     "data": {
      "image/png": "[encoded data removed]",
      "text/plain": [
       "<Figure size 432x288 with 6 Axes>"
      ]
     },
     "metadata": {
      "needs_background": "light"
     },
     "output_type": "display_data"
    }
   ],
   "source": [
    "##\n",
    "f, a = plt.subplots(gridParams.shape[0], gridParams.shape[0], sharex=True, sharey=True)\n",
    "plt.subplots_adjust(left=None, bottom=None, right=None, top=None, wspace=None, hspace=None)\n",
    "plt.rcParams.update({'font.size': 8})\n",
    "plt.suptitle('random design')\n",
    "for i in range(allPara.shape[0]):\n",
    "    for j in range(i+1):\n",
    "#         print(i,j)\n",
    "        if(i>j):\n",
    "            a[i, j].scatter(gridParams[:, i], gridParams[:, j], s=5)\n",
    "            a[i, j].grid(True)\n",
    "        if(j<i):\n",
    "            plt.delaxes(a[j, i])\n",
    "        else:\n",
    "            # a[i,i].set_title(AllLabels[i])\n",
    "            # a[i, i].text(0.4, 0.4, AllLabels[i], size = 'xx-large')\n",
    "            hist, bin_edges = np.histogram(gridParams[:,i], density=True, bins=8)\n",
    "            # a[i,i].bar(hist)\n",
    "            a[i,i].bar(bin_edges[:-1], hist/hist.max(), width=0.2)\n",
    "#             plt.xlim(-0.2,1.2)\n",
    "#             plt.ylim(-0.2,1.2)\n",
    "            \n",
    "\n",
    "            \n",
    "# plt.figure(343)\n",
    "# plt.scatter(allparams[0], allparams[1])\n",
    "\n",
    "\n",
    "plt.savefig('Plots/' + Outfile + '.png', figsize=(10, 10))\n",
    "plt.show()"
   ]
  },
  {
   "cell_type": "code",
   "execution_count": 171,
   "metadata": {},
   "outputs": [
    {
     "data": {
      "text/plain": [
       "<matplotlib.collections.PathCollection at 0x7f332b946518>"
      ]
     },
     "execution_count": 171,
     "metadata": {},
     "output_type": "execute_result"
    },
    {
     "data": {
      "image/png": "[encoded data removed]",
      "text/plain": [
       "<Figure size 432x288 with 1 Axes>"
      ]
     },
     "metadata": {
      "needs_background": "light"
     },
     "output_type": "display_data"
    }
   ],
   "source": [
    "# grd = np.array(np.meshgrid(allPara[0], allPara[1], allPara[2]))\n",
    "\n",
    "plt.figure(343)\n",
    "plt.scatter( gridParams[1][::5000], gridParams[2][::5000])"
   ]
  },
  {
   "cell_type": "code",
   "execution_count": 162,
   "metadata": {},
   "outputs": [
    {
     "data": {
      "text/plain": [
       "(3, 262144)"
      ]
     },
     "execution_count": 162,
     "metadata": {},
     "output_type": "execute_result"
    }
   ],
   "source": [
    "gridParams.shape"
   ]
  },
  {
   "cell_type": "code",
   "execution_count": 125,
   "metadata": {},
   "outputs": [
    {
     "data": {
      "text/plain": [
       "(64,)"
      ]
     },
     "execution_count": 125,
     "metadata": {},
     "output_type": "execute_result"
    }
   ],
   "source": [
    "allPara[0].shape"
   ]
  },
  {
   "cell_type": "code",
   "execution_count": 113,
   "metadata": {},
   "outputs": [
    {
     "data": {
      "text/plain": [
       "array([1.2886    , 1.31435873, 1.34011746, 1.36587619, 1.39163492,\n",
       "       1.41739365, 1.44315238, 1.46891111, 1.49466984, 1.52042857,\n",
       "       1.5461873 , 1.57194603, 1.59770476, 1.62346349, 1.64922222,\n",
       "       1.67498095, 1.70073968, 1.72649841, 1.75225714, 1.77801587,\n",
       "       1.8037746 , 1.82953333, 1.85529206, 1.88105079, 1.90680952,\n",
       "       1.93256825, 1.95832698, 1.98408571, 2.00984444, 2.03560317,\n",
       "       2.0613619 , 2.08712063, 2.11287937, 2.1386381 , 2.16439683,\n",
       "       2.19015556, 2.21591429, 2.24167302, 2.26743175, 2.29319048,\n",
       "       2.31894921, 2.34470794, 2.37046667, 2.3962254 , 2.42198413,\n",
       "       2.44774286, 2.47350159, 2.49926032, 2.52501905, 2.55077778,\n",
       "       2.57653651, 2.60229524, 2.62805397, 2.6538127 , 2.67957143,\n",
       "       2.70533016, 2.73108889, 2.75684762, 2.78260635, 2.80836508,\n",
       "       2.83412381, 2.85988254, 2.88564127, 2.9114    ])"
      ]
     },
     "execution_count": 113,
     "metadata": {},
     "output_type": "execute_result"
    }
   ],
   "source": [
    "allPara[0]"
   ]
  },
  {
   "cell_type": "code",
   "execution_count": null,
   "metadata": {},
   "outputs": [],
   "source": []
  }
 ],
 "metadata": {
  "kernelspec": {
   "display_name": "Python 2",
   "language": "python",
   "name": "python2"
  },
  "language_info": {
   "codemirror_mode": {
    "name": "ipython",
    "version": 3
   },
   "file_extension": ".py",
   "mimetype": "text/x-python",
   "name": "python",
   "nbconvert_exporter": "python",
   "pygments_lexer": "ipython3",
   "version": "3.5.2"
  }
 },
 "nbformat": 4,
 "nbformat_minor": 2
}
