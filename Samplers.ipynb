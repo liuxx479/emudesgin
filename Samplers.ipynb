{
 "cells": [
  {
   "cell_type": "code",
   "execution_count": 88,
   "metadata": {},
   "outputs": [],
   "source": [
    "''' Latin hypercube design\n",
    "Installation: pip install --upgrade pyDOE\n",
    "https://pythonhosted.org/pyDOE/randomized.html\n",
    "\n",
    "import sys\n",
    "!{sys.executable} -m pip install --upgrade pyDOE\n",
    "\n",
    "'''\n",
    "import numpy as np\n",
    "from matplotlib import pyplot as plt\n",
    "import pyDOE as pyDOE\n",
    "\n",
    "def rescale01(xmin, xmax, f):\n",
    "    return (f - xmin) / (xmax - xmin)\n"
   ]
  },
  {
   "cell_type": "code",
   "execution_count": 172,
   "metadata": {},
   "outputs": [],
   "source": [
    "grid_evals = np.array([2, 3, 4, 5])[1]\n",
    "num_evals = 4**grid_evals  ## Total number of evaluations for training the emulator\n",
    "num_para = [3, 4, 5, 6, 7][0]\n",
    "design = ['latin', 'random', 'grid'][0]"
   ]
  },
  {
   "cell_type": "code",
   "execution_count": 176,
   "metadata": {},
   "outputs": [],
   "source": [
    "#### Parameters -- replace this and the limits #####\n",
    "\n",
    "####  para = np.linspace(lower_lim, upper_lim, total_eval)\n",
    "\n",
    "gridpara1 = np.linspace(0.0, 0.62036, grid_evals)  #OmegaM\n",
    "gridpara2 = np.linspace(0.1841, 0.4159, grid_evals) #Omegab\n",
    "gridpara3 = np.linspace(1.2886, 2.9114, grid_evals) # sigma8\n",
    "\n",
    "allGrid = np.vstack([gridpara1, gridpara2, gridpara3])\n",
    "\n",
    "para1 = np.linspace(0.0, 0.62036, num_evals)  #OmegaM\n",
    "para2 = np.linspace(0.1841, 0.4159, num_evals) #Omegab\n",
    "para3 = np.linspace(1.2886, 2.9114, num_evals) # sigma8\n",
    "\n",
    "allPara = np.vstack([para1, para2, para3])"
   ]
  },
  {
   "cell_type": "code",
   "execution_count": 91,
   "metadata": {},
   "outputs": [],
   "source": [
    "\n",
    "def latinHyp(allParams, paramOutfile):\n",
    "    np.random.seed(421)\n",
    "    lhd = pyDOE.lhs(allParams.shape[0], samples=num_evals, criterion=None) # c cm corr m\n",
    "#     print(lhd)\n",
    "    # lhd = norm(loc=0, scale=1).ppf(lhd)  # this applies to both factors here\n",
    "    idx = (lhd * num_evals).astype(int)\n",
    "\n",
    "    allCombinations = np.zeros((num_evals, allParams.shape[0]))\n",
    "    for i in range(allParams.shape[0]):\n",
    "        allCombinations[:, i] = allParams[i][idx[:, i]]\n",
    "\n",
    "    np.savetxt(paramOutfile, allCombinations)\n",
    "    return allCombinations, lhd\n",
    "#         print(allCombinations)\n",
    "        \n",
    "        \n",
    "Outfile = design + '_para' + str(num_para) + '_total' + str(num_evals)\n",
    "allparams, lhd = latinHyp(allPara,  'Designs/' + Outfile + '.txt' )\n",
    "        "
   ]
  },
  {
   "cell_type": "code",
   "execution_count": 92,
   "metadata": {},
   "outputs": [
    {
     "data": {
      "image/png": "[encoded data removed]",
      "text/plain": [
       "<Figure size 432x288 with 6 Axes>"
      ]
     },
     "metadata": {
      "needs_background": "light"
     },
     "output_type": "display_data"
    }
   ],
   "source": [
    "##\n",
    "f, a = plt.subplots(allPara.shape[0], allPara.shape[0], sharex=True, sharey=True)\n",
    "plt.subplots_adjust(left=None, bottom=None, right=None, top=None, wspace=None, hspace=None)\n",
    "plt.rcParams.update({'font.size': 8})\n",
    "plt.suptitle('latin hypercube')\n",
    "for i in range(allPara.shape[0]):\n",
    "    for j in range(i+1):\n",
    "#         print(i,j)\n",
    "        if(i>j):\n",
    "            a[i, j].scatter(lhd[:, i], lhd[:, j], s=5)\n",
    "            a[i, j].grid(True)\n",
    "            \n",
    "        if(j<i):\n",
    "            plt.delaxes(a[j, i])\n",
    "        else:\n",
    "            # a[i,i].set_title(AllLabels[i])\n",
    "            # a[i, i].text(0.4, 0.4, AllLabels[i], size = 'xx-large')\n",
    "            hist, bin_edges = np.histogram(lhd[:,i], density=True, bins=8)\n",
    "            # a[i,i].bar(hist)\n",
    "            a[i,i].bar(bin_edges[:-1], hist/hist.max(), width=0.2)\n",
    "            plt.xlim(0,1)\n",
    "            plt.ylim(0,1)\n",
    "\n",
    "\n",
    "plt.savefig('Plots/' + Outfile + '.png', figsize=(10, 10))\n",
    "plt.show()"
   ]
  },
  {
   "cell_type": "code",
   "execution_count": 93,
   "metadata": {},
   "outputs": [],
   "source": [
    "design = ['latin', 'random', 'grid'][1]\n",
    "\n",
    "\n",
    "def randomDesign(allParams, paramOutfile):\n",
    "\n",
    "    \n",
    "    ## THIS NEEDS TO BE EDITED TO ACCOUNT FOR DIFFERENT #params\n",
    "#     np.random.seed(32)\n",
    "#     rnd0 = np.random.uniform(0, 1, num_evals)\n",
    "#     np.random.seed(31)\n",
    "#     rnd1 = np.random.uniform(0, 1, num_evals)\n",
    "#     np.random.seed(33)\n",
    "#     rnd2 = np.random.uniform(0, 1, num_evals)\n",
    "#     rnd = np.vstack([rnd0, rnd1, rnd2]).T\n",
    "\n",
    "\n",
    "    ## CHECK if it's uniform in every direction\n",
    "    np.random.seed(313)\n",
    "    rnd = np.random.uniform(0, 1, (num_evals, allParams.shape[0]) )\n",
    "    \n",
    "    idx = (rnd * num_evals).astype(int)\n",
    "    \n",
    "    allCombinations = np.zeros((num_evals, allParams.shape[0]))\n",
    "    for i in range(allParams.shape[0]):\n",
    "        allCombinations[:, i] = allParams[i][idx[:, i]]\n",
    "\n",
    "    np.savetxt(paramOutfile, allCombinations)\n",
    "    return allCombinations, rnd\n",
    "\n",
    "#         print(allCombinations)\n",
    "        \n",
    "        \n",
    "Outfile = design + '_para' + str(num_para) + '_total' + str(num_evals)\n",
    "allparams, rnd = randomDesign(allPara,  'Designs/' + Outfile + '.txt' )"
   ]
  },
  {
   "cell_type": "code",
   "execution_count": 94,
   "metadata": {},
   "outputs": [
    {
     "data": {
      "image/png": "[encoded data removed]",
      "text/plain": [
       "<Figure size 432x288 with 6 Axes>"
      ]
     },
     "metadata": {
      "needs_background": "light"
     },
     "output_type": "display_data"
    }
   ],
   "source": [
    "##\n",
    "f, a = plt.subplots(allPara.shape[0], allPara.shape[0], sharex=True, sharey=True)\n",
    "plt.subplots_adjust(left=None, bottom=None, right=None, top=None, wspace=None, hspace=None)\n",
    "plt.rcParams.update({'font.size': 8})\n",
    "plt.suptitle('random design')\n",
    "for i in range(allPara.shape[0]):\n",
    "    for j in range(i+1):\n",
    "#         print(i,j)\n",
    "        if(i>j):\n",
    "            a[i, j].scatter(rnd[:, i], rnd[:, j], s=5)\n",
    "            a[i, j].grid(True)\n",
    "        if(j<i):\n",
    "            plt.delaxes(a[j, i])\n",
    "        else:\n",
    "            # a[i,i].set_title(AllLabels[i])\n",
    "            # a[i, i].text(0.4, 0.4, AllLabels[i], size = 'xx-large')\n",
    "            hist, bin_edges = np.histogram(rnd[:,i], density=True, bins=8)\n",
    "            # a[i,i].bar(hist)\n",
    "            a[i,i].bar(bin_edges[:-1], hist/hist.max(), width=0.2)\n",
    "            plt.xlim(0,1)\n",
    "            plt.ylim(0,1)\n",
    "            \n",
    "\n",
    "\n",
    "plt.savefig('Plots/' + Outfile + '.png', figsize=(10, 10))\n",
    "plt.show()"
   ]
  },
  {
   "cell_type": "code",
   "execution_count": 180,
   "metadata": {},
   "outputs": [],
   "source": [
    "design = ['latin', 'random', 'grid'][2]\n",
    "\n",
    "\n",
    "def gridDesign(allGridParams, paramOutfile):\n",
    "    ## NEEDS TO BE CHANGED BASED ON num_para\n",
    "    grd = np.array(np.meshgrid(allGridParams[0], allGridParams[1], allGridParams[2]) )\n",
    "    \n",
    "    allCombinations = np.vstack( [np.ravel(grd[0]), np.ravel(grd[1]), np.ravel(grd[2])] )\n",
    "\n",
    "    np.savetxt(paramOutfile, allCombinations)\n",
    "    return allCombinations\n",
    "        \n",
    "        \n",
    "Outfile = design + '_para' + str(num_para) + '_total' + str(num_evals)\n",
    "gridParams = gridDesign(allGrid,  'Designs/' + Outfile + '.txt' )"
   ]
  },
  {
   "cell_type": "code",
   "execution_count": 181,
   "metadata": {},
   "outputs": [
    {
     "data": {
      "image/png": "[encoded data removed]",
      "text/plain": [
       "<Figure size 432x288 with 6 Axes>"
      ]
     },
     "metadata": {
      "needs_background": "light"
     },
     "output_type": "display_data"
    }
   ],
   "source": [
    "##\n",
    "f, a = plt.subplots(allGrid.shape[0], allGrid.shape[0], sharex=True, sharey=True)\n",
    "plt.subplots_adjust(left=None, bottom=None, right=None, top=None, wspace=None, hspace=None)\n",
    "plt.rcParams.update({'font.size': 8})\n",
    "plt.suptitle('random design')\n",
    "for i in range(allGrid.shape[0]):\n",
    "    for j in range(i+1):\n",
    "#         print(i,j)\n",
    "        if(i>j):\n",
    "            a[i, j].scatter(gridParams[i], gridParams[j], s=5)\n",
    "            a[i, j].grid(True)\n",
    "        if(j<i):\n",
    "            plt.delaxes(a[j, i])\n",
    "        else:\n",
    "            # a[i,i].set_title(AllLabels[i])\n",
    "            # a[i, i].text(0.4, 0.4, AllLabels[i], size = 'xx-large')\n",
    "            hist, bin_edges = np.histogram(gridParams[i], density=True, bins=8)\n",
    "            # a[i,i].bar(hist)\n",
    "            a[i,i].bar(bin_edges[:-1], hist/hist.max(), width=0.2)\n",
    "\n",
    "\n",
    "plt.savefig('Plots/' + Outfile + '.png', figsize=(10, 10))\n",
    "plt.show()"
   ]
  },
  {
   "cell_type": "code",
   "execution_count": 186,
   "metadata": {},
   "outputs": [
    {
     "data": {
      "text/plain": [
       "<matplotlib.collections.PathCollection at 0x7f332ae5add8>"
      ]
     },
     "execution_count": 186,
     "metadata": {},
     "output_type": "execute_result"
    },
    {
     "data": {
      "image/png": "[encoded data removed]",
      "text/plain": [
       "<Figure size 432x288 with 1 Axes>"
      ]
     },
     "metadata": {
      "needs_background": "light"
     },
     "output_type": "display_data"
    }
   ],
   "source": [
    "plt.figure(343)\n",
    "plt.scatter( gridParams[0], gridParams[1])"
   ]
  },
  {
   "cell_type": "code",
   "execution_count": null,
   "metadata": {},
   "outputs": [],
   "source": []
  }
 ],
 "metadata": {
  "kernelspec": {
   "display_name": "Python 2",
   "language": "python",
   "name": "python2"
  },
  "language_info": {
   "codemirror_mode": {
    "name": "ipython",
    "version": 3
   },
   "file_extension": ".py",
   "mimetype": "text/x-python",
   "name": "python",
   "nbconvert_exporter": "python",
   "pygments_lexer": "ipython3",
   "version": "3.5.2"
  }
 },
 "nbformat": 4,
 "nbformat_minor": 2
}
